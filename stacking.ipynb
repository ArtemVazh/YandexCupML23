{
 "cells": [
  {
   "cell_type": "code",
   "execution_count": 1,
   "id": "08682d9d-55f3-4476-a536-e5c232a235e7",
   "metadata": {},
   "outputs": [],
   "source": [
    "import os\n",
    "import sys\n",
    "sys.path.remove('/home/jovyan/.imgenv-lm-poly-0/lib/python3.7/site-packages')\n",
    "os.environ['PYTHONPATH'] = '/home/user/conda/envs/ya/lib/python3.10/site-packages'\n",
    "\n",
    "import pandas as pd\n",
    "import numpy as np\n",
    "import torch\n",
    "import torch.nn as nn\n",
    "from tqdm import tqdm\n",
    "from datetime import datetime\n",
    "from torch.utils.data import Dataset, DataLoader\n",
    "from glob import glob"
   ]
  },
  {
   "cell_type": "code",
   "execution_count": 2,
   "id": "6990e83d-463d-48e1-ad2b-603931ba7b21",
   "metadata": {},
   "outputs": [],
   "source": [
    "CUDA_DEV = 0\n",
    "NUM_TAGS = 256"
   ]
  },
  {
   "cell_type": "code",
   "execution_count": 3,
   "id": "65de37a1-7301-4888-9c18-33f701e0f589",
   "metadata": {},
   "outputs": [],
   "source": [
    "df_train = pd.read_csv('train.csv')\n",
    "df_test = pd.read_csv('test.csv')"
   ]
  },
  {
   "cell_type": "code",
   "execution_count": 4,
   "id": "cc016659-0cbe-465b-bd19-4070edc42f9a",
   "metadata": {},
   "outputs": [],
   "source": [
    "from collections import Counter\n",
    "\n",
    "tags = [[int(i) for i in x.split(',')] for x in df_train.tags.values]\n",
    "dict_tags = {}\n",
    "for cls_tags in tags:\n",
    "    for c in cls_tags:\n",
    "        if c not in dict_tags.keys():\n",
    "            dict_tags[c] = Counter(cls_tags)\n",
    "        else:\n",
    "            dict_tags[c].update(Counter(cls_tags))\n",
    "            \n",
    "for tag in dict_tags.keys():\n",
    "    del dict_tags[tag][tag]\n",
    "    n = np.sum(list(dict_tags[tag].values()))\n",
    "    for t in dict_tags[tag].keys():\n",
    "        dict_tags[tag][t] = dict_tags[tag][t]/n"
   ]
  },
  {
   "cell_type": "code",
   "execution_count": 5,
   "id": "736d1fc6-03a0-446f-9cec-d7454fd8c581",
   "metadata": {},
   "outputs": [
    {
     "name": "stderr",
     "output_type": "stream",
     "text": [
      "100%|██████████| 76715/76715 [03:46<00:00, 338.22it/s]\n"
     ]
    }
   ],
   "source": [
    "track_idx2embeds = {}\n",
    "for fn in tqdm(glob('track_embeddings/*')):\n",
    "    name = fn.split('/')[1].split('.')[0]\n",
    "    if name == \"track_embeddings\":\n",
    "        continue\n",
    "    track_idx = int(name)\n",
    "    embeds = np.load(fn)\n",
    "    track_idx2embeds[track_idx] = embeds"
   ]
  },
  {
   "cell_type": "code",
   "execution_count": 6,
   "id": "39ec4bb6-ab59-4dc3-9135-9d2c33742551",
   "metadata": {},
   "outputs": [],
   "source": [
    "class TaggingDataset(Dataset):\n",
    "    def __init__(self, df, track_idx2embeds, aug=0, testing=False, label_smoothing = 0):\n",
    "        self.df = df\n",
    "        self.testing = testing\n",
    "        self.aug = aug\n",
    "        self.track_idx2embeds = track_idx2embeds\n",
    "        self.label_smoothing = label_smoothing\n",
    "        \n",
    "    def __len__(self):\n",
    "        return self.df.shape[0]\n",
    "\n",
    "    def __getitem__(self, idx):\n",
    "        row = self.df.iloc[idx]\n",
    "        track_idx = row.track\n",
    "        embeds = self.track_idx2embeds[track_idx]\n",
    "        if self.testing:\n",
    "            return track_idx, embeds\n",
    "        tags = [int(x) for x in row.tags.split(',')]\n",
    "        target = np.zeros(NUM_TAGS)\n",
    "        target[tags] = 1\n",
    "        if self.label_smoothing > 0:\n",
    "            eps = self.label_smoothing / 256\n",
    "            target = target * (1 - self.label_smoothing) + eps\n",
    "        \n",
    "        if np.random.choice([0, 1], p=[1 - self.aug, self.aug]):\n",
    "            s = np.random.uniform(0.0, 0.4)\n",
    "            e = np.random.uniform(s+0.1, 1)\n",
    "            s = int(s * embeds.shape[0])\n",
    "            e = int(e * embeds.shape[0])\n",
    "            embeds = embeds[s:e]\n",
    "        \n",
    "        return track_idx, embeds, target"
   ]
  },
  {
   "cell_type": "code",
   "execution_count": 7,
   "id": "2517243c-0f9f-41d7-ac28-274be934adc0",
   "metadata": {},
   "outputs": [],
   "source": [
    "train_dataset = TaggingDataset(df_train[:-1000], track_idx2embeds=track_idx2embeds, aug=0.6)\n",
    "val_dataset = TaggingDataset(df_train[-1000:], track_idx2embeds=track_idx2embeds)\n",
    "\n",
    "test_dataset = TaggingDataset(df_test, testing=True, track_idx2embeds=track_idx2embeds)"
   ]
  },
  {
   "cell_type": "code",
   "execution_count": 8,
   "id": "507bd164-0b50-4cb7-b792-dc223d5204bf",
   "metadata": {},
   "outputs": [],
   "source": [
    "class FeedForward(nn.Module):\n",
    "    def __init__(self, emb_dim=768, mult=4, p=0.0):\n",
    "        super().__init__()\n",
    "        self.fc = nn.Sequential(\n",
    "            nn.Linear(emb_dim, emb_dim * mult),\n",
    "            nn.Dropout(p),\n",
    "            nn.GELU(),\n",
    "            nn.Linear(emb_dim * mult, emb_dim)\n",
    "        )\n",
    "\n",
    "    def forward(self, x):\n",
    "        return self.fc(x)\n",
    "    \n",
    "class AttentionPooling(nn.Module):\n",
    "    def __init__(self, embedding_size):\n",
    "        super().__init__()\n",
    "        self.attn = nn.Sequential(\n",
    "            nn.Linear(embedding_size, embedding_size),\n",
    "            nn.LayerNorm(embedding_size),\n",
    "            nn.GELU(),\n",
    "            nn.Linear(embedding_size, 1)\n",
    "        )\n",
    "\n",
    "    def forward(self, x, mask=None):\n",
    "        attn_logits = self.attn(x)\n",
    "        if mask is not None:\n",
    "            attn_logits[mask] = -float('inf')\n",
    "        attn_weights = torch.softmax(attn_logits, dim=1)\n",
    "        x = x * attn_weights\n",
    "        x = x.sum(dim=1)\n",
    "        return x\n",
    "    \n",
    "class Network(nn.Module):\n",
    "    def __init__(\n",
    "        self,\n",
    "        num_classes = NUM_TAGS,\n",
    "        input_dim = 768,\n",
    "        hidden_dim = 512\n",
    "    ):\n",
    "        super().__init__()\n",
    "        self.num_classes = num_classes\n",
    "        self.proj = FeedForward(input_dim)\n",
    "        self.bn = nn.BatchNorm1d(input_dim)\n",
    "        self.ln = nn.LayerNorm(input_dim)\n",
    "        self.encoder_layer = nn.TransformerEncoderLayer(d_model=768, nhead=12, activation=\"gelu\", batch_first=True)\n",
    "        self.transformer_encoder = nn.TransformerEncoder(self.encoder_layer, num_layers=6)\n",
    "        self.poooling = AttentionPooling(input_dim)\n",
    "        self.fc = nn.Linear(input_dim, num_classes)\n",
    "               \n",
    "    def forward(self, embeds):\n",
    "        embeds = self.proj(embeds)\n",
    "        src_key_padding_mask = (embeds.mean(-1) == -1)\n",
    "        embeds = self.ln(embeds)\n",
    "        x = self.transformer_encoder(embeds, src_key_padding_mask=src_key_padding_mask)\n",
    "        x = self.bn(self.poooling(x, mask=src_key_padding_mask))\n",
    "        outs = self.fc(x)\n",
    "        return outs"
   ]
  },
  {
   "cell_type": "code",
   "execution_count": 9,
   "id": "b98a2b7d-0b2d-4903-9493-82c169a5b273",
   "metadata": {},
   "outputs": [],
   "source": [
    "from torch.nn.utils.rnn import pad_sequence\n",
    "\n",
    "def predict(model, loader, max_length):\n",
    "    model.eval()\n",
    "    track_idxs = []\n",
    "    predictions = []\n",
    "    with torch.no_grad():\n",
    "        for data in loader:\n",
    "            track_idx, embeds = data\n",
    "            embeds = [x.to(CUDA_DEV) for x in embeds]\n",
    "            embeds = pad_sequence(embeds, padding_value=-1, batch_first=True)[:, :max_length, :]\n",
    "            pred_logits = model(embeds)\n",
    "            pred_probs = torch.sigmoid(pred_logits)\n",
    "            predictions.append(pred_probs.cpu().numpy())\n",
    "            track_idxs.append(track_idx.numpy())\n",
    "    predictions = np.vstack(predictions)\n",
    "    track_idxs = np.vstack(track_idxs).ravel()\n",
    "    return track_idxs, predictions"
   ]
  },
  {
   "cell_type": "code",
   "execution_count": 10,
   "id": "1ea0cabe-ff37-46db-9a09-1bde4b1112c4",
   "metadata": {},
   "outputs": [],
   "source": [
    "from tqdm import tqdm\n",
    "\n",
    "criterion = nn.BCEWithLogitsLoss().to(CUDA_DEV)\n",
    "\n",
    "def predict_train(model, loader, max_length):\n",
    "    model.eval()\n",
    "    track_idxs = []\n",
    "    predictions = []\n",
    "    targets = []\n",
    "    loss = 0\n",
    "    with torch.no_grad():\n",
    "        for data in loader:\n",
    "            track_idx, embeds, target = data\n",
    "            embeds = [x.to(CUDA_DEV) for x in embeds]\n",
    "            embeds = pad_sequence(embeds, padding_value=-1, batch_first=True)[:, :max_length, :]\n",
    "            pred_logits = model(embeds)\n",
    "            pred_probs = torch.sigmoid(pred_logits)\n",
    "\n",
    "            predictions.append(pred_probs.cpu().numpy())\n",
    "            track_idxs.append(track_idx.numpy())\n",
    "            targets.append(target.numpy())\n",
    "    predictions = np.vstack(predictions)\n",
    "    targets = np.vstack(targets)\n",
    "    track_idxs = np.vstack(track_idxs).ravel()\n",
    "    return track_idxs, predictions, targets"
   ]
  },
  {
   "cell_type": "code",
   "execution_count": 11,
   "id": "1a242fb4-c9bc-478f-9566-510c5f81b822",
   "metadata": {},
   "outputs": [],
   "source": [
    "def collate_fn(b):\n",
    "    track_idxs = torch.from_numpy(np.vstack([x[0] for x in b]))\n",
    "    embeds = [torch.from_numpy(x[1]) for x in b]\n",
    "    targets = np.vstack([x[2] for x in b])\n",
    "    targets = torch.from_numpy(targets)\n",
    "    return track_idxs, embeds, targets\n",
    "\n",
    "def collate_fn_test(b):\n",
    "    track_idxs = torch.from_numpy(np.vstack([x[0] for x in b]))\n",
    "    embeds = [torch.from_numpy(x[1]) for x in b]\n",
    "    return track_idxs, embeds"
   ]
  },
  {
   "cell_type": "code",
   "execution_count": 12,
   "id": "97919be4-2dfb-433c-a601-5b2fe175974e",
   "metadata": {},
   "outputs": [],
   "source": [
    "train_dataloader = DataLoader(train_dataset, batch_size=64, shuffle=True, collate_fn=collate_fn)\n",
    "val_dataloader = DataLoader(val_dataset, batch_size=128, shuffle=False, collate_fn=collate_fn)\n",
    "test_dataloader = DataLoader(test_dataset, batch_size=128, shuffle=False, collate_fn=collate_fn_test)"
   ]
  },
  {
   "cell_type": "code",
   "execution_count": 14,
   "id": "77161228-ff32-4e78-9bbd-d4abcf5cd156",
   "metadata": {
    "tags": []
   },
   "outputs": [
    {
     "name": "stderr",
     "output_type": "stream",
     "text": [
      "0it [00:00, ?it/s]"
     ]
    },
    {
     "name": "stdout",
     "output_type": "stream",
     "text": [
      "394529034 80\n",
      "Fold: 0, AP: 0.27884541879629987, Seed: 394529034, model_path: ./workdir/final_es/12_6_0.6_80_64_10_50_3e-05_1e-05_10_1e-07_394529034/last_model_0.pt\n",
      "Fold: 1, AP: 0.2828230255433555, Seed: 394529034, model_path: ./workdir/final_es/12_6_0.6_80_64_10_50_3e-05_1e-05_10_1e-07_394529034/last_model_1.pt\n",
      "Fold: 2, AP: 0.2745290230899722, Seed: 394529034, model_path: ./workdir/final_es/12_6_0.6_80_64_10_50_3e-05_1e-05_10_1e-07_394529034/last_model_2.pt\n",
      "Fold: 3, AP: 0.2691909038746434, Seed: 394529034, model_path: ./workdir/final_es/12_6_0.6_80_64_10_50_3e-05_1e-05_10_1e-07_394529034/last_model_3.pt\n",
      "Fold: 4, AP: 0.28602370096100144, Seed: 394529034, model_path: ./workdir/final_es/12_6_0.6_80_64_10_50_3e-05_1e-05_10_1e-07_394529034/last_model_4.pt\n",
      "Fold: 5, AP: 0.27785399431951124, Seed: 394529034, model_path: ./workdir/final_es/12_6_0.6_80_64_10_50_3e-05_1e-05_10_1e-07_394529034/last_model_5.pt\n",
      "Fold: 6, AP: 0.28111623719841894, Seed: 394529034, model_path: ./workdir/final_es/12_6_0.6_80_64_10_50_3e-05_1e-05_10_1e-07_394529034/last_model_6.pt\n",
      "Fold: 7, AP: 0.2817685072354309, Seed: 394529034, model_path: ./workdir/final_es/12_6_0.6_80_64_10_50_3e-05_1e-05_10_1e-07_394529034/last_model_7.pt\n",
      "Fold: 8, AP: 0.2812598901890649, Seed: 394529034, model_path: ./workdir/final_es/12_6_0.6_80_64_10_50_3e-05_1e-05_10_1e-07_394529034/last_model_8.pt\n",
      "Fold: 9, AP: 0.27186990033096115, Seed: 394529034, model_path: ./workdir/final_es/12_6_0.6_80_64_10_50_3e-05_1e-05_10_1e-07_394529034/last_model_9.pt\n"
     ]
    },
    {
     "name": "stderr",
     "output_type": "stream",
     "text": [
      "1it [01:06, 66.40s/it]"
     ]
    },
    {
     "name": "stdout",
     "output_type": "stream",
     "text": [
      "7777 80\n",
      "Fold: 0, AP: 0.27635320139053154, Seed: 7777, model_path: ./workdir/final_es/12_6_0.6_80_64_10_50_3e-05_1e-05_10_1e-07_7777/last_model_0.pt\n",
      "Fold: 1, AP: 0.27488561553025626, Seed: 7777, model_path: ./workdir/final_es/12_6_0.6_80_64_10_50_3e-05_1e-05_10_1e-07_7777/last_model_1.pt\n",
      "Fold: 2, AP: 0.2704427621074261, Seed: 7777, model_path: ./workdir/final_es/12_6_0.6_80_64_10_50_3e-05_1e-05_10_1e-07_7777/last_model_2.pt\n",
      "Fold: 3, AP: 0.2743421552679267, Seed: 7777, model_path: ./workdir/final_es/12_6_0.6_80_64_10_50_3e-05_1e-05_10_1e-07_7777/last_model_3.pt\n",
      "Fold: 4, AP: 0.2766762182109663, Seed: 7777, model_path: ./workdir/final_es/12_6_0.6_80_64_10_50_3e-05_1e-05_10_1e-07_7777/last_model_4.pt\n",
      "Fold: 5, AP: 0.27400464772267685, Seed: 7777, model_path: ./workdir/final_es/12_6_0.6_80_64_10_50_3e-05_1e-05_10_1e-07_7777/last_model_5.pt\n",
      "Fold: 6, AP: 0.27949451395125047, Seed: 7777, model_path: ./workdir/final_es/12_6_0.6_80_64_10_50_3e-05_1e-05_10_1e-07_7777/last_model_6.pt\n",
      "Fold: 7, AP: 0.2764617083599098, Seed: 7777, model_path: ./workdir/final_es/12_6_0.6_80_64_10_50_3e-05_1e-05_10_1e-07_7777/last_model_7.pt\n",
      "Fold: 8, AP: 0.2752880673526995, Seed: 7777, model_path: ./workdir/final_es/12_6_0.6_80_64_10_50_3e-05_1e-05_10_1e-07_7777/last_model_8.pt\n",
      "Fold: 9, AP: 0.2898842396021018, Seed: 7777, model_path: ./workdir/final_es/12_6_0.6_80_64_10_50_3e-05_1e-05_10_1e-07_7777/last_model_9.pt\n"
     ]
    },
    {
     "name": "stderr",
     "output_type": "stream",
     "text": [
      "2it [02:13, 66.61s/it]"
     ]
    },
    {
     "name": "stdout",
     "output_type": "stream",
     "text": [
      "9 80\n",
      "Fold: 0, AP: 0.27922566105926, Seed: 9, model_path: ./workdir/final/12_6_0.6_80_64_10_50_3e-05_1e-05_10_1e-07_9/last_model_0.pt\n",
      "Fold: 1, AP: 0.27787307266080324, Seed: 9, model_path: ./workdir/final/12_6_0.6_80_64_10_50_3e-05_1e-05_10_1e-07_9/last_model_1.pt\n",
      "Fold: 2, AP: 0.28383336755227945, Seed: 9, model_path: ./workdir/final/12_6_0.6_80_64_10_50_3e-05_1e-05_10_1e-07_9/last_model_2.pt\n",
      "Fold: 3, AP: 0.2801535177687319, Seed: 9, model_path: ./workdir/final/12_6_0.6_80_64_10_50_3e-05_1e-05_10_1e-07_9/last_model_3.pt\n",
      "Fold: 4, AP: 0.28287155656859797, Seed: 9, model_path: ./workdir/final/12_6_0.6_80_64_10_50_3e-05_1e-05_10_1e-07_9/last_model_4.pt\n",
      "Fold: 5, AP: 0.2744968366064029, Seed: 9, model_path: ./workdir/final/12_6_0.6_80_64_10_50_3e-05_1e-05_10_1e-07_9/last_model_5.pt\n",
      "Fold: 6, AP: 0.2729221966926413, Seed: 9, model_path: ./workdir/final/12_6_0.6_80_64_10_50_3e-05_1e-05_10_1e-07_9/last_model_6.pt\n",
      "Fold: 7, AP: 0.28054436745318206, Seed: 9, model_path: ./workdir/final/12_6_0.6_80_64_10_50_3e-05_1e-05_10_1e-07_9/last_model_7.pt\n",
      "Fold: 8, AP: 0.2729688176669816, Seed: 9, model_path: ./workdir/final/12_6_0.6_80_64_10_50_3e-05_1e-05_10_1e-07_9/last_model_8.pt\n",
      "Fold: 9, AP: 0.2768501522113846, Seed: 9, model_path: ./workdir/final/12_6_0.6_80_64_10_50_3e-05_1e-05_10_1e-07_9/last_model_9.pt\n"
     ]
    },
    {
     "name": "stderr",
     "output_type": "stream",
     "text": [
      "3it [03:19, 66.47s/it]"
     ]
    },
    {
     "name": "stdout",
     "output_type": "stream",
     "text": [
      "928431908 80\n",
      "Fold: 0, AP: 0.2708670838566745, Seed: 928431908, model_path: ./workdir/final/12_6_0.6_80_64_10_50_3e-05_1e-05_10_1e-07_928431908/last_model_0.pt\n",
      "Fold: 1, AP: 0.2647746160165354, Seed: 928431908, model_path: ./workdir/final/12_6_0.6_80_64_10_50_3e-05_1e-05_10_1e-07_928431908/last_model_1.pt\n",
      "Fold: 2, AP: 0.2837612439285485, Seed: 928431908, model_path: ./workdir/final/12_6_0.6_80_64_10_50_3e-05_1e-05_10_1e-07_928431908/last_model_2.pt\n",
      "Fold: 3, AP: 0.2812777853517513, Seed: 928431908, model_path: ./workdir/final/12_6_0.6_80_64_10_50_3e-05_1e-05_10_1e-07_928431908/last_model_3.pt\n",
      "Fold: 4, AP: 0.2725020985569577, Seed: 928431908, model_path: ./workdir/final/12_6_0.6_80_64_10_50_3e-05_1e-05_10_1e-07_928431908/last_model_4.pt\n",
      "Fold: 5, AP: 0.2783112280253456, Seed: 928431908, model_path: ./workdir/final/12_6_0.6_80_64_10_50_3e-05_1e-05_10_1e-07_928431908/last_model_5.pt\n",
      "Fold: 6, AP: 0.2877582490803553, Seed: 928431908, model_path: ./workdir/final/12_6_0.6_80_64_10_50_3e-05_1e-05_10_1e-07_928431908/last_model_6.pt\n",
      "Fold: 7, AP: 0.273760118949967, Seed: 928431908, model_path: ./workdir/final/12_6_0.6_80_64_10_50_3e-05_1e-05_10_1e-07_928431908/last_model_7.pt\n",
      "Fold: 8, AP: 0.283126782328952, Seed: 928431908, model_path: ./workdir/final/12_6_0.6_80_64_10_50_3e-05_1e-05_10_1e-07_928431908/last_model_8.pt\n",
      "Fold: 9, AP: 0.27809247207796084, Seed: 928431908, model_path: ./workdir/final/12_6_0.6_80_64_10_50_3e-05_1e-05_10_1e-07_928431908/last_model_9.pt\n"
     ]
    },
    {
     "name": "stderr",
     "output_type": "stream",
     "text": [
      "4it [04:27, 67.25s/it]"
     ]
    },
    {
     "name": "stdout",
     "output_type": "stream",
     "text": [
      "12312049 80\n",
      "Fold: 0, AP: 0.28413138680224204, Seed: 12312049, model_path: ./workdir/final/12_6_0.6_80_64_10_50_3e-05_1e-05_10_1e-07_12312049/last_model_0.pt\n",
      "Fold: 1, AP: 0.26863256473541053, Seed: 12312049, model_path: ./workdir/final/12_6_0.6_80_64_10_50_3e-05_1e-05_10_1e-07_12312049/last_model_1.pt\n",
      "Fold: 2, AP: 0.2809035723295671, Seed: 12312049, model_path: ./workdir/final/12_6_0.6_80_64_10_50_3e-05_1e-05_10_1e-07_12312049/last_model_2.pt\n",
      "Fold: 3, AP: 0.27657602660628455, Seed: 12312049, model_path: ./workdir/final/12_6_0.6_80_64_10_50_3e-05_1e-05_10_1e-07_12312049/last_model_3.pt\n",
      "Fold: 4, AP: 0.26998564128210556, Seed: 12312049, model_path: ./workdir/final/12_6_0.6_80_64_10_50_3e-05_1e-05_10_1e-07_12312049/last_model_4.pt\n",
      "Fold: 5, AP: 0.2774328575258035, Seed: 12312049, model_path: ./workdir/final/12_6_0.6_80_64_10_50_3e-05_1e-05_10_1e-07_12312049/last_model_5.pt\n",
      "Fold: 6, AP: 0.2763971420566914, Seed: 12312049, model_path: ./workdir/final/12_6_0.6_80_64_10_50_3e-05_1e-05_10_1e-07_12312049/last_model_6.pt\n",
      "Fold: 7, AP: 0.283531090667817, Seed: 12312049, model_path: ./workdir/final/12_6_0.6_80_64_10_50_3e-05_1e-05_10_1e-07_12312049/last_model_7.pt\n",
      "Fold: 8, AP: 0.2785287640756786, Seed: 12312049, model_path: ./workdir/final/12_6_0.6_80_64_10_50_3e-05_1e-05_10_1e-07_12312049/last_model_8.pt\n",
      "Fold: 9, AP: 0.2740689771029228, Seed: 12312049, model_path: ./workdir/final/12_6_0.6_80_64_10_50_3e-05_1e-05_10_1e-07_12312049/last_model_9.pt\n"
     ]
    },
    {
     "name": "stderr",
     "output_type": "stream",
     "text": [
      "5it [05:40, 69.02s/it]"
     ]
    },
    {
     "name": "stdout",
     "output_type": "stream",
     "text": [
      "3490394039 80\n",
      "Fold: 0, AP: 0.27814608115632644, Seed: 3490394039, model_path: ./workdir/final/12_6_0.6_80_64_10_50_3e-05_1e-05_10_1e-07_3490394039/last_model_0.pt\n",
      "Fold: 1, AP: 0.28009617863581004, Seed: 3490394039, model_path: ./workdir/final/12_6_0.6_80_64_10_50_3e-05_1e-05_10_1e-07_3490394039/last_model_1.pt\n",
      "Fold: 2, AP: 0.27418945747605095, Seed: 3490394039, model_path: ./workdir/final/12_6_0.6_80_64_10_50_3e-05_1e-05_10_1e-07_3490394039/last_model_2.pt\n",
      "Fold: 3, AP: 0.2807892971215152, Seed: 3490394039, model_path: ./workdir/final/12_6_0.6_80_64_10_50_3e-05_1e-05_10_1e-07_3490394039/last_model_3.pt\n",
      "Fold: 4, AP: 0.27624670488140957, Seed: 3490394039, model_path: ./workdir/final/12_6_0.6_80_64_10_50_3e-05_1e-05_10_1e-07_3490394039/last_model_4.pt\n",
      "Fold: 5, AP: 0.28063382735300174, Seed: 3490394039, model_path: ./workdir/final/12_6_0.6_80_64_10_50_3e-05_1e-05_10_1e-07_3490394039/last_model_5.pt\n",
      "Fold: 6, AP: 0.2774442662151546, Seed: 3490394039, model_path: ./workdir/final/12_6_0.6_80_64_10_50_3e-05_1e-05_10_1e-07_3490394039/last_model_6.pt\n",
      "Fold: 7, AP: 0.27190065129545926, Seed: 3490394039, model_path: ./workdir/final/12_6_0.6_80_64_10_50_3e-05_1e-05_10_1e-07_3490394039/last_model_7.pt\n",
      "Fold: 8, AP: 0.2796599262951179, Seed: 3490394039, model_path: ./workdir/final/12_6_0.6_80_64_10_50_3e-05_1e-05_10_1e-07_3490394039/last_model_8.pt\n",
      "Fold: 9, AP: 0.2804056251362144, Seed: 3490394039, model_path: ./workdir/final/12_6_0.6_80_64_10_50_3e-05_1e-05_10_1e-07_3490394039/last_model_9.pt\n"
     ]
    },
    {
     "name": "stderr",
     "output_type": "stream",
     "text": [
      "6it [06:47, 68.39s/it]"
     ]
    },
    {
     "name": "stdout",
     "output_type": "stream",
     "text": [
      "42 80\n",
      "Fold: 0, AP: 0.2731120156019412, Seed: 42, model_path: ./workdir/final_es/12_6_0.6_80_64_10_50_3e-05_1e-05_10_1e-07_42/last_model_0.pt\n",
      "Fold: 1, AP: 0.27242955870342, Seed: 42, model_path: ./workdir/final_es/12_6_0.6_80_64_10_50_3e-05_1e-05_10_1e-07_42/last_model_1.pt\n",
      "Fold: 2, AP: 0.2779880755365984, Seed: 42, model_path: ./workdir/final_es/12_6_0.6_80_64_10_50_3e-05_1e-05_10_1e-07_42/last_model_2.pt\n",
      "Fold: 3, AP: 0.2788893159989052, Seed: 42, model_path: ./workdir/final_es/12_6_0.6_80_64_10_50_3e-05_1e-05_10_1e-07_42/last_model_3.pt\n",
      "Fold: 4, AP: 0.2793577440815452, Seed: 42, model_path: ./workdir/final_es/12_6_0.6_80_64_10_50_3e-05_1e-05_10_1e-07_42/last_model_4.pt\n",
      "Fold: 5, AP: 0.2763394670510687, Seed: 42, model_path: ./workdir/final_es/12_6_0.6_80_64_10_50_3e-05_1e-05_10_1e-07_42/last_model_5.pt\n",
      "Fold: 6, AP: 0.27448640289546344, Seed: 42, model_path: ./workdir/final_es/12_6_0.6_80_64_10_50_3e-05_1e-05_10_1e-07_42/last_model_6.pt\n",
      "Fold: 7, AP: 0.2849842164472245, Seed: 42, model_path: ./workdir/final_es/12_6_0.6_80_64_10_50_3e-05_1e-05_10_1e-07_42/last_model_7.pt\n",
      "Fold: 8, AP: 0.27620938891479174, Seed: 42, model_path: ./workdir/final_es/12_6_0.6_80_64_10_50_3e-05_1e-05_10_1e-07_42/last_model_8.pt\n",
      "Fold: 9, AP: 0.2728567788015739, Seed: 42, model_path: ./workdir/final_es/12_6_0.6_80_64_10_50_3e-05_1e-05_10_1e-07_42/last_model_9.pt\n"
     ]
    },
    {
     "name": "stderr",
     "output_type": "stream",
     "text": [
      "7it [07:59, 69.77s/it]"
     ]
    },
    {
     "name": "stdout",
     "output_type": "stream",
     "text": [
      "12323 80\n",
      "Fold: 0, AP: 0.27698466430384455, Seed: 12323, model_path: ./workdir/final_es/12_6_0.6_80_64_10_50_3e-05_1e-05_10_1e-07_12323/last_model_0.pt\n",
      "Fold: 1, AP: 0.2804283556320519, Seed: 12323, model_path: ./workdir/final_es/12_6_0.6_80_64_10_50_3e-05_1e-05_10_1e-07_12323/last_model_1.pt\n",
      "Fold: 2, AP: 0.2767936106237089, Seed: 12323, model_path: ./workdir/final_es/12_6_0.6_80_64_10_50_3e-05_1e-05_10_1e-07_12323/last_model_2.pt\n",
      "Fold: 3, AP: 0.27396902414318847, Seed: 12323, model_path: ./workdir/final_es/12_6_0.6_80_64_10_50_3e-05_1e-05_10_1e-07_12323/last_model_3.pt\n",
      "Fold: 4, AP: 0.2720107530612804, Seed: 12323, model_path: ./workdir/final_es/12_6_0.6_80_64_10_50_3e-05_1e-05_10_1e-07_12323/last_model_4.pt\n",
      "Fold: 5, AP: 0.27870565746962955, Seed: 12323, model_path: ./workdir/final_es/12_6_0.6_80_64_10_50_3e-05_1e-05_10_1e-07_12323/last_model_5.pt\n",
      "Fold: 6, AP: 0.28014423344812966, Seed: 12323, model_path: ./workdir/final_es/12_6_0.6_80_64_10_50_3e-05_1e-05_10_1e-07_12323/last_model_6.pt\n",
      "Fold: 7, AP: 0.28117940867622965, Seed: 12323, model_path: ./workdir/final_es/12_6_0.6_80_64_10_50_3e-05_1e-05_10_1e-07_12323/last_model_7.pt\n",
      "Fold: 8, AP: 0.277624545843296, Seed: 12323, model_path: ./workdir/final_es/12_6_0.6_80_64_10_50_3e-05_1e-05_10_1e-07_12323/last_model_8.pt\n",
      "Fold: 9, AP: 0.2772808761629211, Seed: 12323, model_path: ./workdir/final_es/12_6_0.6_80_64_10_50_3e-05_1e-05_10_1e-07_12323/last_model_9.pt\n"
     ]
    },
    {
     "name": "stderr",
     "output_type": "stream",
     "text": [
      "8it [09:11, 70.46s/it]"
     ]
    },
    {
     "name": "stdout",
     "output_type": "stream",
     "text": [
      "123 64\n",
      "Fold: 0, AP: 0.2693906611888211, Seed: 123, model_path: ./workdir/12_6_0.6_64_64_10_100_3e-05_1e-05_10_1e-07_123/model_0.pt\n",
      "Fold: 1, AP: 0.28098337616629604, Seed: 123, model_path: ./workdir/12_6_0.6_64_64_10_100_3e-05_1e-05_10_1e-07_123/model_1.pt\n",
      "Fold: 2, AP: 0.2707535993010135, Seed: 123, model_path: ./workdir/12_6_0.6_64_64_10_100_3e-05_1e-05_10_1e-07_123/model_2.pt\n",
      "Fold: 3, AP: 0.2811971765589971, Seed: 123, model_path: ./workdir/12_6_0.6_64_64_10_100_3e-05_1e-05_10_1e-07_123/model_3.pt\n",
      "Fold: 4, AP: 0.2677315776862632, Seed: 123, model_path: ./workdir/12_6_0.6_64_64_10_100_3e-05_1e-05_10_1e-07_123/model_4.pt\n",
      "Fold: 5, AP: 0.2678676961238029, Seed: 123, model_path: ./workdir/12_6_0.6_64_64_10_100_3e-05_1e-05_10_1e-07_123/model_5.pt\n",
      "Fold: 6, AP: 0.2696801092385323, Seed: 123, model_path: ./workdir/12_6_0.6_64_64_10_100_3e-05_1e-05_10_1e-07_123/model_6.pt\n",
      "Fold: 7, AP: 0.26889339584209004, Seed: 123, model_path: ./workdir/12_6_0.6_64_64_10_100_3e-05_1e-05_10_1e-07_123/model_7.pt\n",
      "Fold: 8, AP: 0.26539048860043135, Seed: 123, model_path: ./workdir/12_6_0.6_64_64_10_100_3e-05_1e-05_10_1e-07_123/model_8.pt\n",
      "Fold: 9, AP: 0.28179870902112136, Seed: 123, model_path: ./workdir/12_6_0.6_64_64_10_100_3e-05_1e-05_10_1e-07_123/model_9.pt\n"
     ]
    },
    {
     "name": "stderr",
     "output_type": "stream",
     "text": [
      "9it [10:15, 68.36s/it]"
     ]
    },
    {
     "name": "stdout",
     "output_type": "stream",
     "text": [
      "777 64\n",
      "Fold: 0, AP: 0.2670125132140879, Seed: 777, model_path: ./workdir/12_6_0.6_64_64_10_100_3e-05_1e-05_10_1e-07_777/model_0.pt\n",
      "Fold: 1, AP: 0.2746262511047279, Seed: 777, model_path: ./workdir/12_6_0.6_64_64_10_100_3e-05_1e-05_10_1e-07_777/model_1.pt\n",
      "Fold: 2, AP: 0.26615747998557854, Seed: 777, model_path: ./workdir/12_6_0.6_64_64_10_100_3e-05_1e-05_10_1e-07_777/model_2.pt\n",
      "Fold: 3, AP: 0.27265001333945094, Seed: 777, model_path: ./workdir/12_6_0.6_64_64_10_100_3e-05_1e-05_10_1e-07_777/model_3.pt\n",
      "Fold: 4, AP: 0.274708643701947, Seed: 777, model_path: ./workdir/12_6_0.6_64_64_10_100_3e-05_1e-05_10_1e-07_777/model_4.pt\n",
      "Fold: 5, AP: 0.2634172258501424, Seed: 777, model_path: ./workdir/12_6_0.6_64_64_10_100_3e-05_1e-05_10_1e-07_777/model_5.pt\n",
      "Fold: 6, AP: 0.2741152957384707, Seed: 777, model_path: ./workdir/12_6_0.6_64_64_10_100_3e-05_1e-05_10_1e-07_777/model_6.pt\n",
      "Fold: 7, AP: 0.27819836149459776, Seed: 777, model_path: ./workdir/12_6_0.6_64_64_10_100_3e-05_1e-05_10_1e-07_777/model_7.pt\n",
      "Fold: 8, AP: 0.27740164537555695, Seed: 777, model_path: ./workdir/12_6_0.6_64_64_10_100_3e-05_1e-05_10_1e-07_777/model_8.pt\n",
      "Fold: 9, AP: 0.2692456178431082, Seed: 777, model_path: ./workdir/12_6_0.6_64_64_10_100_3e-05_1e-05_10_1e-07_777/model_9.pt\n"
     ]
    },
    {
     "name": "stderr",
     "output_type": "stream",
     "text": [
      "10it [11:19, 67.08s/it]"
     ]
    },
    {
     "name": "stdout",
     "output_type": "stream",
     "text": [
      "99999 64\n",
      "Fold: 0, AP: 0.2710593848093555, Seed: 99999, model_path: ./workdir/12_6_0.6_64_64_10_100_3e-05_1e-05_10_1e-07_99999/model_0.pt\n",
      "Fold: 1, AP: 0.26936157190204435, Seed: 99999, model_path: ./workdir/12_6_0.6_64_64_10_100_3e-05_1e-05_10_1e-07_99999/model_1.pt\n",
      "Fold: 2, AP: 0.27136938401477356, Seed: 99999, model_path: ./workdir/12_6_0.6_64_64_10_100_3e-05_1e-05_10_1e-07_99999/model_2.pt\n",
      "Fold: 3, AP: 0.27455449200039667, Seed: 99999, model_path: ./workdir/12_6_0.6_64_64_10_100_3e-05_1e-05_10_1e-07_99999/model_3.pt\n",
      "Fold: 4, AP: 0.2621891587618945, Seed: 99999, model_path: ./workdir/12_6_0.6_64_64_10_100_3e-05_1e-05_10_1e-07_99999/model_4.pt\n",
      "Fold: 5, AP: 0.27103314729631356, Seed: 99999, model_path: ./workdir/12_6_0.6_64_64_10_100_3e-05_1e-05_10_1e-07_99999/model_5.pt\n",
      "Fold: 6, AP: 0.268289571201213, Seed: 99999, model_path: ./workdir/12_6_0.6_64_64_10_100_3e-05_1e-05_10_1e-07_99999/model_6.pt\n",
      "Fold: 7, AP: 0.27560189711860794, Seed: 99999, model_path: ./workdir/12_6_0.6_64_64_10_100_3e-05_1e-05_10_1e-07_99999/model_7.pt\n",
      "Fold: 8, AP: 0.27540186059368565, Seed: 99999, model_path: ./workdir/12_6_0.6_64_64_10_100_3e-05_1e-05_10_1e-07_99999/model_8.pt\n",
      "Fold: 9, AP: 0.27218776874090544, Seed: 99999, model_path: ./workdir/12_6_0.6_64_64_10_100_3e-05_1e-05_10_1e-07_99999/model_9.pt\n"
     ]
    },
    {
     "name": "stderr",
     "output_type": "stream",
     "text": [
      "11it [12:22, 65.73s/it]"
     ]
    },
    {
     "name": "stdout",
     "output_type": "stream",
     "text": [
      "394529034 80\n",
      "Fold: 0, AP: 0.26870576543306957, Seed: 394529034, model_path: ./workdir/12_6_0.6_80_64_10_100_3e-05_1e-05_10_1e-07_394529034/model_0.pt\n",
      "Fold: 1, AP: 0.2779891018546478, Seed: 394529034, model_path: ./workdir/12_6_0.6_80_64_10_100_3e-05_1e-05_10_1e-07_394529034/model_1.pt\n",
      "Fold: 2, AP: 0.27128695449268775, Seed: 394529034, model_path: ./workdir/12_6_0.6_80_64_10_100_3e-05_1e-05_10_1e-07_394529034/model_2.pt\n",
      "Fold: 3, AP: 0.26615632071020445, Seed: 394529034, model_path: ./workdir/12_6_0.6_80_64_10_100_3e-05_1e-05_10_1e-07_394529034/model_3.pt\n",
      "Fold: 4, AP: 0.2790239617563691, Seed: 394529034, model_path: ./workdir/12_6_0.6_80_64_10_100_3e-05_1e-05_10_1e-07_394529034/model_4.pt\n",
      "Fold: 5, AP: 0.2775200690656471, Seed: 394529034, model_path: ./workdir/12_6_0.6_80_64_10_100_3e-05_1e-05_10_1e-07_394529034/model_5.pt\n",
      "Fold: 6, AP: 0.2753753201379682, Seed: 394529034, model_path: ./workdir/12_6_0.6_80_64_10_100_3e-05_1e-05_10_1e-07_394529034/model_6.pt\n",
      "Fold: 7, AP: 0.27566541631395086, Seed: 394529034, model_path: ./workdir/12_6_0.6_80_64_10_100_3e-05_1e-05_10_1e-07_394529034/model_7.pt\n",
      "Fold: 8, AP: 0.2759408798104539, Seed: 394529034, model_path: ./workdir/12_6_0.6_80_64_10_100_3e-05_1e-05_10_1e-07_394529034/model_8.pt\n",
      "Fold: 9, AP: 0.2680537653070947, Seed: 394529034, model_path: ./workdir/12_6_0.6_80_64_10_100_3e-05_1e-05_10_1e-07_394529034/model_9.pt\n"
     ]
    },
    {
     "name": "stderr",
     "output_type": "stream",
     "text": [
      "12it [13:29, 66.27s/it]"
     ]
    },
    {
     "name": "stdout",
     "output_type": "stream",
     "text": [
      "123 80\n",
      "Fold: 0, AP: 0.26586786456777756, Seed: 123, model_path: ./workdir/12_6_0.6_80_64_10_100_3e-05_1e-05_10_1e-07_123/model_0.pt\n",
      "Fold: 1, AP: 0.274374636901471, Seed: 123, model_path: ./workdir/12_6_0.6_80_64_10_100_3e-05_1e-05_10_1e-07_123/model_1.pt\n",
      "Fold: 2, AP: 0.2735989392867765, Seed: 123, model_path: ./workdir/12_6_0.6_80_64_10_100_3e-05_1e-05_10_1e-07_123/model_2.pt\n",
      "Fold: 3, AP: 0.2817634353593735, Seed: 123, model_path: ./workdir/12_6_0.6_80_64_10_100_3e-05_1e-05_10_1e-07_123/model_3.pt\n",
      "Fold: 4, AP: 0.2684641569159902, Seed: 123, model_path: ./workdir/12_6_0.6_80_64_10_100_3e-05_1e-05_10_1e-07_123/model_4.pt\n",
      "Fold: 5, AP: 0.27313762807653774, Seed: 123, model_path: ./workdir/12_6_0.6_80_64_10_100_3e-05_1e-05_10_1e-07_123/model_5.pt\n",
      "Fold: 6, AP: 0.27270246968328643, Seed: 123, model_path: ./workdir/12_6_0.6_80_64_10_100_3e-05_1e-05_10_1e-07_123/model_6.pt\n",
      "Fold: 7, AP: 0.2686550569392982, Seed: 123, model_path: ./workdir/12_6_0.6_80_64_10_100_3e-05_1e-05_10_1e-07_123/model_7.pt\n",
      "Fold: 8, AP: 0.27004419483818415, Seed: 123, model_path: ./workdir/12_6_0.6_80_64_10_100_3e-05_1e-05_10_1e-07_123/model_8.pt\n",
      "Fold: 9, AP: 0.27754816511620817, Seed: 123, model_path: ./workdir/12_6_0.6_80_64_10_100_3e-05_1e-05_10_1e-07_123/model_9.pt\n"
     ]
    },
    {
     "name": "stderr",
     "output_type": "stream",
     "text": [
      "13it [14:40, 67.60s/it]"
     ]
    },
    {
     "name": "stdout",
     "output_type": "stream",
     "text": [
      "123 80\n",
      "Fold: 0, AP: 0.2664262783388489, Seed: 123, model_path: ./workdir/ls/12_6_0.6_80_64_10_100_3e-05_1e-05_10_1e-07_123/model_0.pt\n",
      "Fold: 1, AP: 0.2804560942257841, Seed: 123, model_path: ./workdir/ls/12_6_0.6_80_64_10_100_3e-05_1e-05_10_1e-07_123/model_1.pt\n",
      "Fold: 2, AP: 0.27698059689839455, Seed: 123, model_path: ./workdir/ls/12_6_0.6_80_64_10_100_3e-05_1e-05_10_1e-07_123/model_2.pt\n",
      "Fold: 3, AP: 0.28420786983658575, Seed: 123, model_path: ./workdir/ls/12_6_0.6_80_64_10_100_3e-05_1e-05_10_1e-07_123/model_3.pt\n",
      "Fold: 4, AP: 0.2679084592920209, Seed: 123, model_path: ./workdir/ls/12_6_0.6_80_64_10_100_3e-05_1e-05_10_1e-07_123/model_4.pt\n",
      "Fold: 5, AP: 0.2688048120290476, Seed: 123, model_path: ./workdir/ls/12_6_0.6_80_64_10_100_3e-05_1e-05_10_1e-07_123/model_5.pt\n",
      "Fold: 6, AP: 0.27378583318778227, Seed: 123, model_path: ./workdir/ls/12_6_0.6_80_64_10_100_3e-05_1e-05_10_1e-07_123/model_6.pt\n",
      "Fold: 7, AP: 0.2752832061418351, Seed: 123, model_path: ./workdir/ls/12_6_0.6_80_64_10_100_3e-05_1e-05_10_1e-07_123/model_7.pt\n",
      "Fold: 8, AP: 0.27113779040825164, Seed: 123, model_path: ./workdir/ls/12_6_0.6_80_64_10_100_3e-05_1e-05_10_1e-07_123/model_8.pt\n",
      "Fold: 9, AP: 0.2711111004226132, Seed: 123, model_path: ./workdir/ls/12_6_0.6_80_64_10_100_3e-05_1e-05_10_1e-07_123/model_9.pt\n"
     ]
    },
    {
     "name": "stderr",
     "output_type": "stream",
     "text": [
      "14it [15:56, 70.12s/it]"
     ]
    },
    {
     "name": "stdout",
     "output_type": "stream",
     "text": [
      "777 80\n",
      "Fold: 0, AP: 0.2676094031621189, Seed: 777, model_path: ./workdir/12_6_0.6_80_64_10_100_3e-05_1e-05_10_1e-07_777/model_0.pt\n",
      "Fold: 1, AP: 0.27262403776614447, Seed: 777, model_path: ./workdir/12_6_0.6_80_64_10_100_3e-05_1e-05_10_1e-07_777/model_1.pt\n",
      "Fold: 2, AP: 0.263804085472985, Seed: 777, model_path: ./workdir/12_6_0.6_80_64_10_100_3e-05_1e-05_10_1e-07_777/model_2.pt\n",
      "Fold: 3, AP: 0.26965626191760045, Seed: 777, model_path: ./workdir/12_6_0.6_80_64_10_100_3e-05_1e-05_10_1e-07_777/model_3.pt\n",
      "Fold: 4, AP: 0.27444034845953136, Seed: 777, model_path: ./workdir/12_6_0.6_80_64_10_100_3e-05_1e-05_10_1e-07_777/model_4.pt\n",
      "Fold: 5, AP: 0.2672633516727342, Seed: 777, model_path: ./workdir/12_6_0.6_80_64_10_100_3e-05_1e-05_10_1e-07_777/model_5.pt\n",
      "Fold: 6, AP: 0.27327148273270896, Seed: 777, model_path: ./workdir/12_6_0.6_80_64_10_100_3e-05_1e-05_10_1e-07_777/model_6.pt\n",
      "Fold: 7, AP: 0.27839494229784467, Seed: 777, model_path: ./workdir/12_6_0.6_80_64_10_100_3e-05_1e-05_10_1e-07_777/model_7.pt\n",
      "Fold: 8, AP: 0.28026652795963625, Seed: 777, model_path: ./workdir/12_6_0.6_80_64_10_100_3e-05_1e-05_10_1e-07_777/model_8.pt\n",
      "Fold: 9, AP: 0.2709943145272006, Seed: 777, model_path: ./workdir/12_6_0.6_80_64_10_100_3e-05_1e-05_10_1e-07_777/model_9.pt\n"
     ]
    },
    {
     "name": "stderr",
     "output_type": "stream",
     "text": [
      "15it [17:11, 71.59s/it]"
     ]
    },
    {
     "name": "stdout",
     "output_type": "stream",
     "text": [
      "1231238 80\n",
      "Fold: 0, AP: 0.28117396080362816, Seed: 1231238, model_path: ./workdir/12_6_0.6_80_64_10_100_3e-05_1e-05_10_1e-07_1231238/model_0.pt\n",
      "Fold: 1, AP: 0.27114924318980876, Seed: 1231238, model_path: ./workdir/12_6_0.6_80_64_10_100_3e-05_1e-05_10_1e-07_1231238/model_1.pt\n",
      "Fold: 2, AP: 0.26928243020020304, Seed: 1231238, model_path: ./workdir/12_6_0.6_80_64_10_100_3e-05_1e-05_10_1e-07_1231238/model_2.pt\n",
      "Fold: 3, AP: 0.275087020561557, Seed: 1231238, model_path: ./workdir/12_6_0.6_80_64_10_100_3e-05_1e-05_10_1e-07_1231238/model_3.pt\n",
      "Fold: 4, AP: 0.27313623020107136, Seed: 1231238, model_path: ./workdir/12_6_0.6_80_64_10_100_3e-05_1e-05_10_1e-07_1231238/model_4.pt\n",
      "Fold: 5, AP: 0.2661730038511637, Seed: 1231238, model_path: ./workdir/12_6_0.6_80_64_10_100_3e-05_1e-05_10_1e-07_1231238/model_5.pt\n",
      "Fold: 6, AP: 0.27717678251237865, Seed: 1231238, model_path: ./workdir/12_6_0.6_80_64_10_100_3e-05_1e-05_10_1e-07_1231238/model_6.pt\n",
      "Fold: 7, AP: 0.2764084117186287, Seed: 1231238, model_path: ./workdir/12_6_0.6_80_64_10_100_3e-05_1e-05_10_1e-07_1231238/model_7.pt\n",
      "Fold: 8, AP: 0.27858526154956276, Seed: 1231238, model_path: ./workdir/12_6_0.6_80_64_10_100_3e-05_1e-05_10_1e-07_1231238/model_8.pt\n",
      "Fold: 9, AP: 0.268254399217997, Seed: 1231238, model_path: ./workdir/12_6_0.6_80_64_10_100_3e-05_1e-05_10_1e-07_1231238/model_9.pt\n"
     ]
    },
    {
     "name": "stderr",
     "output_type": "stream",
     "text": [
      "16it [18:27, 72.80s/it]"
     ]
    },
    {
     "name": "stdout",
     "output_type": "stream",
     "text": [
      "12323 80\n",
      "Fold: 0, AP: 0.27800373330926265, Seed: 12323, model_path: ./workdir/12_6_0.6_80_64_10_100_3e-05_1e-05_10_1e-07_12323/model_0.pt\n",
      "Fold: 1, AP: 0.2771388453836147, Seed: 12323, model_path: ./workdir/12_6_0.6_80_64_10_100_3e-05_1e-05_10_1e-07_12323/model_1.pt\n",
      "Fold: 2, AP: 0.2702892891909206, Seed: 12323, model_path: ./workdir/12_6_0.6_80_64_10_100_3e-05_1e-05_10_1e-07_12323/model_2.pt\n",
      "Fold: 3, AP: 0.2713507338094403, Seed: 12323, model_path: ./workdir/12_6_0.6_80_64_10_100_3e-05_1e-05_10_1e-07_12323/model_3.pt\n",
      "Fold: 4, AP: 0.2680784748012526, Seed: 12323, model_path: ./workdir/12_6_0.6_80_64_10_100_3e-05_1e-05_10_1e-07_12323/model_4.pt\n",
      "Fold: 5, AP: 0.27203389487318796, Seed: 12323, model_path: ./workdir/12_6_0.6_80_64_10_100_3e-05_1e-05_10_1e-07_12323/model_5.pt\n",
      "Fold: 6, AP: 0.2746276642254449, Seed: 12323, model_path: ./workdir/12_6_0.6_80_64_10_100_3e-05_1e-05_10_1e-07_12323/model_6.pt\n",
      "Fold: 7, AP: 0.2746939787241912, Seed: 12323, model_path: ./workdir/12_6_0.6_80_64_10_100_3e-05_1e-05_10_1e-07_12323/model_7.pt\n",
      "Fold: 8, AP: 0.2765269522781444, Seed: 12323, model_path: ./workdir/12_6_0.6_80_64_10_100_3e-05_1e-05_10_1e-07_12323/model_8.pt\n",
      "Fold: 9, AP: 0.2719675174552545, Seed: 12323, model_path: ./workdir/12_6_0.6_80_64_10_100_3e-05_1e-05_10_1e-07_12323/model_9.pt\n"
     ]
    },
    {
     "name": "stderr",
     "output_type": "stream",
     "text": [
      "17it [19:41, 73.39s/it]"
     ]
    },
    {
     "name": "stdout",
     "output_type": "stream",
     "text": [
      "99999 80\n",
      "Fold: 0, AP: 0.27121578293776477, Seed: 99999, model_path: ./workdir/12_6_0.6_80_64_10_100_3e-05_1e-05_10_1e-07_99999/model_0.pt\n",
      "Fold: 1, AP: 0.27413693266749173, Seed: 99999, model_path: ./workdir/12_6_0.6_80_64_10_100_3e-05_1e-05_10_1e-07_99999/model_1.pt\n",
      "Fold: 2, AP: 0.2673873955551328, Seed: 99999, model_path: ./workdir/12_6_0.6_80_64_10_100_3e-05_1e-05_10_1e-07_99999/model_2.pt\n",
      "Fold: 3, AP: 0.27685450351330837, Seed: 99999, model_path: ./workdir/12_6_0.6_80_64_10_100_3e-05_1e-05_10_1e-07_99999/model_3.pt\n",
      "Fold: 4, AP: 0.26167061809967374, Seed: 99999, model_path: ./workdir/12_6_0.6_80_64_10_100_3e-05_1e-05_10_1e-07_99999/model_4.pt\n",
      "Fold: 5, AP: 0.2702317776337357, Seed: 99999, model_path: ./workdir/12_6_0.6_80_64_10_100_3e-05_1e-05_10_1e-07_99999/model_5.pt\n",
      "Fold: 6, AP: 0.25951624593590544, Seed: 99999, model_path: ./workdir/12_6_0.6_80_64_10_100_3e-05_1e-05_10_1e-07_99999/model_6.pt\n",
      "Fold: 7, AP: 0.273004212923609, Seed: 99999, model_path: ./workdir/12_6_0.6_80_64_10_100_3e-05_1e-05_10_1e-07_99999/model_7.pt\n",
      "Fold: 8, AP: 0.2764843508941528, Seed: 99999, model_path: ./workdir/12_6_0.6_80_64_10_100_3e-05_1e-05_10_1e-07_99999/model_8.pt\n",
      "Fold: 9, AP: 0.2784101509542125, Seed: 99999, model_path: ./workdir/12_6_0.6_80_64_10_100_3e-05_1e-05_10_1e-07_99999/model_9.pt\n"
     ]
    },
    {
     "name": "stderr",
     "output_type": "stream",
     "text": [
      "18it [20:56, 69.82s/it]\n"
     ]
    }
   ],
   "source": [
    "import sklearn.metrics\n",
    "from sklearn.model_selection import KFold\n",
    "from transformers import set_seed\n",
    "\n",
    "paths_last = [\n",
    "        \"./workdir/final_es/12_6_0.6_80_64_10_50_3e-05_1e-05_10_1e-07_394529034\",\n",
    "        \"./workdir/final_es/12_6_0.6_80_64_10_50_3e-05_1e-05_10_1e-07_7777\",\n",
    "        \"./workdir/final/12_6_0.6_80_64_10_50_3e-05_1e-05_10_1e-07_9\",\n",
    "        \"./workdir/final/12_6_0.6_80_64_10_50_3e-05_1e-05_10_1e-07_928431908\",\n",
    "              \n",
    "        \"./workdir/final/12_6_0.6_80_64_10_50_3e-05_1e-05_10_1e-07_12312049\",\n",
    "        \"./workdir/final/12_6_0.6_80_64_10_50_3e-05_1e-05_10_1e-07_3490394039\",\n",
    "        \"./workdir/final_es/12_6_0.6_80_64_10_50_3e-05_1e-05_10_1e-07_42\",\n",
    "        \"./workdir/final_es/12_6_0.6_80_64_10_50_3e-05_1e-05_10_1e-07_12323\",\n",
    "        ]\n",
    "\n",
    "paths = [\n",
    "        \"./workdir/final_es/12_6_0.6_80_64_10_50_3e-05_1e-05_10_1e-07_394529034\",\n",
    "        \"./workdir/final_es/12_6_0.6_80_64_10_50_3e-05_1e-05_10_1e-07_7777\",\n",
    "        \"./workdir/final/12_6_0.6_80_64_10_50_3e-05_1e-05_10_1e-07_9\",\n",
    "        \"./workdir/final/12_6_0.6_80_64_10_50_3e-05_1e-05_10_1e-07_928431908\",\n",
    "    \n",
    "        \"./workdir/final/12_6_0.6_80_64_10_50_3e-05_1e-05_10_1e-07_12312049\",\n",
    "        \"./workdir/final/12_6_0.6_80_64_10_50_3e-05_1e-05_10_1e-07_3490394039\",\n",
    "        \"./workdir/final_es/12_6_0.6_80_64_10_50_3e-05_1e-05_10_1e-07_42\",\n",
    "        \"./workdir/final_es/12_6_0.6_80_64_10_50_3e-05_1e-05_10_1e-07_12323\",\n",
    "    \n",
    "        f\"./workdir/12_6_0.6_64_64_10_100_3e-05_1e-05_10_1e-07_123\", \n",
    "        f\"./workdir/12_6_0.6_64_64_10_100_3e-05_1e-05_10_1e-07_777\",\n",
    "        f\"./workdir/12_6_0.6_64_64_10_100_3e-05_1e-05_10_1e-07_99999\",\n",
    "        f\"./workdir/12_6_0.6_80_64_10_100_3e-05_1e-05_10_1e-07_394529034\",\n",
    "        f\"./workdir/12_6_0.6_80_64_10_100_3e-05_1e-05_10_1e-07_123\",\n",
    "        f\"./workdir/ls/12_6_0.6_80_64_10_100_3e-05_1e-05_10_1e-07_123\",\n",
    "        f\"./workdir/12_6_0.6_80_64_10_100_3e-05_1e-05_10_1e-07_777\",\n",
    "        f\"./workdir/12_6_0.6_80_64_10_100_3e-05_1e-05_10_1e-07_1231238\",\n",
    "        f\"./workdir/12_6_0.6_80_64_10_100_3e-05_1e-05_10_1e-07_12323\",\n",
    "        f\"./workdir/12_6_0.6_80_64_10_100_3e-05_1e-05_10_1e-07_99999\",]\n",
    "\n",
    "meta_features = {}\n",
    "meta_targets = {}\n",
    "meta_features_test = {}\n",
    "    \n",
    "for k, path in tqdm(enumerate(paths)):\n",
    "    seed = int(path.split('_')[-1])\n",
    "    set_seed(seed)\n",
    "    max_length = int(path.split('_')[-9])\n",
    "    print(seed, max_length)\n",
    "    \n",
    "    preds_val = {}\n",
    "    targets_val = {}\n",
    "    #preds_test = []\n",
    "    \n",
    "    kf = KFold(n_splits=10, random_state=seed, shuffle=True)\n",
    "    folds = list(kf.split(df_train))\n",
    "    \n",
    "    for model_path in os.listdir(path):\n",
    "        if not model_path.endswith('.pt'):\n",
    "            continue\n",
    "        if (path in paths_last) and (not model_path.startswith('last')):\n",
    "            continue\n",
    "            \n",
    "        model = Network()\n",
    "        model = model.to(CUDA_DEV)\n",
    "        model.load_state_dict(torch.load(f\"{path}/{model_path}\"))\n",
    "        \n",
    "        fold_i = int(model_path.split('_')[-1].split('.')[0])\n",
    "        train_index, test_index = folds[fold_i]\n",
    "\n",
    "        val_dataset = TaggingDataset(df_train.iloc[test_index], track_idx2embeds=track_idx2embeds)\n",
    "        val_dataloader = DataLoader(val_dataset, batch_size=128, shuffle=False, collate_fn=collate_fn)\n",
    "\n",
    "        track_idxs, predictions, targets = predict_train(model, val_dataloader, max_length=max_length)\n",
    "        #track_idxs_test, predictions_test = predict(model, test_dataloader, max_length=max_length)\n",
    "        \n",
    "        for i, c in enumerate(predictions.argmax(-1)):\n",
    "            probs = np.array([1 + dict_tags[c].get(t, 0) for t in np.arange(predictions.shape[1])])\n",
    "            probs[c] = 2\n",
    "            predictions[i] = predictions[i] * probs\n",
    "            predictions[i] /= predictions[i].sum()\n",
    "        \n",
    "        ap = sklearn.metrics.average_precision_score(targets, predictions)\n",
    "        print(f\"Fold: {fold_i}, AP: {ap}, Seed: {seed}, model_path: {path}/{model_path}\")\n",
    "\n",
    "        for j, p, t in zip(track_idxs, predictions, targets):\n",
    "            preds_val[j] = p\n",
    "            targets_val[j] = t\n",
    "                \n",
    "        #preds_test.append(predictions_test)\n",
    "        \n",
    "#     predictions = np.mean(preds_test, axis=0)\n",
    "#     for i, c in enumerate(predictions.argmax(-1)):\n",
    "#         probs = np.array([1 + dict_tags[c].get(t, 0) for t in np.arange(predictions.shape[1])])\n",
    "#         probs[c] = 2\n",
    "#         predictions[i] = predictions[i] * probs\n",
    "#         predictions[i] /= predictions[i].sum()\n",
    "    \n",
    "    if (path in paths_last):\n",
    "        path_csv = f\"{path}/prediction_last_mean_folds.csv\"\n",
    "    else:\n",
    "        path_csv = f\"{path}/prediction_mean_folds.csv\"\n",
    "    df = pd.read_csv(path_csv)\n",
    "    predictions = np.array([[float(a) for a in x.split(',')] for x in df.prediction.values])\n",
    "    meta_features_test[k] = predictions\n",
    "    meta_targets[k] = targets_val\n",
    "    meta_features[k] = preds_val"
   ]
  },
  {
   "cell_type": "code",
   "execution_count": 15,
   "id": "bae29d20-c696-4f1c-a4fa-37177f7e47f6",
   "metadata": {},
   "outputs": [],
   "source": [
    "track_idxs_test, _ = predict(model, test_dataloader, max_length=max_length) "
   ]
  },
  {
   "cell_type": "code",
   "execution_count": 16,
   "id": "e61078dd-6bfe-49ed-8694-d44ab234bc23",
   "metadata": {},
   "outputs": [],
   "source": [
    "X = []\n",
    "y = []\n",
    "X_test_ = []\n",
    "track_idxs = np.sort(list(meta_features[0].keys()))\n",
    "for seed in meta_features.keys():\n",
    "    X_i = [meta_features[seed][idx] for idx in track_idxs]\n",
    "    y_i = [meta_targets[seed][idx] for idx in track_idxs]\n",
    "    X.append(X_i)\n",
    "    y.append(y_i)\n",
    "    \n",
    "    X_test_i = meta_features_test[seed]\n",
    "    X_test_.append(X_test_i)"
   ]
  },
  {
   "cell_type": "code",
   "execution_count": 17,
   "id": "86e4ad5f-5e53-41af-967e-433b15ffb157",
   "metadata": {},
   "outputs": [],
   "source": [
    "X_test = np.hstack(X_test_)\n",
    "X = np.hstack(X)\n",
    "y = np.array(y[0])"
   ]
  },
  {
   "cell_type": "code",
   "execution_count": 18,
   "id": "873922d5-7ebd-4d38-9a5a-3d5f4fdb894f",
   "metadata": {},
   "outputs": [
    {
     "data": {
      "text/plain": [
       "((51134, 4608), (51134, 256), (25580, 4608))"
      ]
     },
     "execution_count": 18,
     "metadata": {},
     "output_type": "execute_result"
    }
   ],
   "source": [
    "X.shape, y.shape, X_test.shape"
   ]
  },
  {
   "cell_type": "code",
   "execution_count": 19,
   "id": "de16dfa3-b102-43bf-b43b-9ee54c831a4a",
   "metadata": {
    "tags": []
   },
   "outputs": [
    {
     "name": "stderr",
     "output_type": "stream",
     "text": [
      "100%|██████████| 256/256 [03:44<00:00,  1.14it/s]\n"
     ]
    }
   ],
   "source": [
    "import numpy as np\n",
    "from sklearn.datasets import make_multilabel_classification\n",
    "from sklearn.multioutput import MultiOutputClassifier\n",
    "from sklearn.linear_model import LogisticRegression, Ridge\n",
    "from sklearn.ensemble import GradientBoostingClassifier\n",
    "from sklearn.linear_model import ElasticNetCV, RidgeCV\n",
    "from transformers import set_seed\n",
    "set_seed(42)\n",
    "\n",
    "\n",
    "probs = []\n",
    "coefs = []\n",
    "\n",
    "for c in tqdm(range(256)):\n",
    "    model = ElasticNetCV(cv=10, random_state=42)\n",
    "    clf = model.fit(X[:, c::256], y[:, c])\n",
    "    coefs.append(clf.coef_)\n",
    "    probs.append((clf.coef_[None, :] * X_test[:, c::256]).sum(-1) / clf.coef_.sum())"
   ]
  },
  {
   "cell_type": "code",
   "execution_count": 20,
   "id": "b61f2bca-4bb8-44bf-9767-944b8a48854c",
   "metadata": {},
   "outputs": [
    {
     "data": {
      "text/plain": [
       "array([0.23585235, 0.23420078, 0.23979515, 0.22679715, 0.23709166,\n",
       "       0.23807167, 0.24267697, 0.21780336, 0.19627948, 0.2203923 ,\n",
       "       0.22394888, 0.20279156, 0.2054293 , 0.18239388, 0.18671122,\n",
       "       0.22973692, 0.21306786, 0.22827692], dtype=float32)"
      ]
     },
     "execution_count": 20,
     "metadata": {},
     "output_type": "execute_result"
    }
   ],
   "source": [
    "np.mean(coefs, axis=0)"
   ]
  },
  {
   "cell_type": "code",
   "execution_count": 21,
   "id": "c2cd54a8-c771-426d-9c77-6f3c11f96ffd",
   "metadata": {},
   "outputs": [
    {
     "data": {
      "text/plain": [
       "(25580, 256)"
      ]
     },
     "execution_count": 21,
     "metadata": {},
     "output_type": "execute_result"
    }
   ],
   "source": [
    "predictions = np.vstack(probs).T\n",
    "predictions.shape"
   ]
  },
  {
   "cell_type": "code",
   "execution_count": 22,
   "id": "868bc048-ce6d-4376-bc9d-d12d654dfabc",
   "metadata": {},
   "outputs": [
    {
     "data": {
      "text/plain": [
       "(-4.315174664313027e-05, 0.6768879981779364)"
      ]
     },
     "execution_count": 22,
     "metadata": {},
     "output_type": "execute_result"
    }
   ],
   "source": [
    "predictions.min(), predictions.max()"
   ]
  },
  {
   "cell_type": "code",
   "execution_count": 23,
   "id": "402ccefe-7f0e-4d56-b8bb-317c85d52fb3",
   "metadata": {},
   "outputs": [],
   "source": [
    "predictions[predictions<0] = 0"
   ]
  },
  {
   "cell_type": "code",
   "execution_count": 24,
   "id": "dca33a68-afd2-4a1a-adf7-b31f00b9393f",
   "metadata": {},
   "outputs": [
    {
     "data": {
      "text/plain": [
       "(0.0, 0.6768879981779364)"
      ]
     },
     "execution_count": 24,
     "metadata": {},
     "output_type": "execute_result"
    }
   ],
   "source": [
    "predictions.min(), predictions.max()"
   ]
  },
  {
   "cell_type": "code",
   "execution_count": 25,
   "id": "7d885159-42d9-4ce5-811f-f4ba6eb714e2",
   "metadata": {},
   "outputs": [],
   "source": [
    "for i, c in enumerate(predictions.argmax(-1)):\n",
    "    probs = np.array([1 + dict_tags[c].get(t, 0) for t in np.arange(predictions.shape[1])])\n",
    "    probs[c] = 2\n",
    "    predictions[i] = predictions[i] * probs\n",
    "    predictions[i] /= predictions[i].sum()"
   ]
  },
  {
   "cell_type": "code",
   "execution_count": 26,
   "id": "826b195d-9210-4115-b177-b8871d130472",
   "metadata": {},
   "outputs": [],
   "source": [
    "predictions_df = pd.DataFrame([\n",
    "    {'track': track, 'prediction': ','.join([str(p) for p in probs])}\n",
    "    for track, probs in zip(track_idxs_test, predictions)\n",
    "])\n",
    "predictions_df.to_csv(f'./workdir/prediction_stacking_total.csv', index=False)"
   ]
  },
  {
   "cell_type": "code",
   "execution_count": 27,
   "id": "8bc67d2d-18ee-4407-a7b6-21cd202dcbd5",
   "metadata": {},
   "outputs": [
    {
     "data": {
      "text/plain": [
       "array([154, 199,  91, 224,  77, 115, 250, 233, 223, 140, 217, 171,  88,\n",
       "        80, 212, 218, 220, 136, 156,  82,  57, 242, 216, 191,  66, 119,\n",
       "       211,  90, 149, 111, 163, 165, 100, 255,  49, 142, 150, 196, 132,\n",
       "       152, 125, 185, 179, 203, 213,  86, 206, 104, 222,  79,  29, 237,\n",
       "       249, 126, 147, 113, 127, 230, 197,  73, 205,  59, 130,  78, 254,\n",
       "       229, 159, 207, 189, 226, 184, 146, 235, 247, 253, 182, 210,  53,\n",
       "       131, 139, 153,  89, 102, 166, 133,  83, 208,  92,  60, 227,  56,\n",
       "       219, 251,  64, 188,  51, 128,  71, 143,  42, 161, 144, 105, 244,\n",
       "        48, 108, 193, 138, 200,  31, 238,  55,  69, 239,  65, 245, 114,\n",
       "       181, 221,  10, 168, 172, 120, 135,  96,  94, 190,  18, 178,  44,\n",
       "        52,  41,  27,  14,  58, 109, 157, 107, 231,  62,  13,  75, 141,\n",
       "        16, 110,  46, 124,  67, 186,  70,  22,   4,  21, 129,  68,  40,\n",
       "       243, 174,  17, 118,  87,   7, 180, 148,  37,  25,  33, 164, 209,\n",
       "        99, 106,  45,  97,  20, 176, 173,  50, 240,  34, 192, 112,  85,\n",
       "       194, 202,  35,  15,   8, 167,  74, 225,  61,  26, 248,  76,  72,\n",
       "        84, 228,  38,  54, 155,  36, 160, 123,  32,  30,  47,  28, 198,\n",
       "       215, 134,  95, 246, 236,  63, 204,   5, 234, 169,  24,  11,  19,\n",
       "       241,  98, 158, 116,  12, 117, 183, 252,  93, 137,   0, 177, 175,\n",
       "       195, 187, 145,   9, 232, 103,   1, 151, 201,   2,   3, 122, 214,\n",
       "       170, 101, 121,  81,  23, 162,  43,  39,   6])"
      ]
     },
     "execution_count": 27,
     "metadata": {},
     "output_type": "execute_result"
    }
   ],
   "source": [
    "predictions[0].argsort()"
   ]
  },
  {
   "cell_type": "code",
   "execution_count": null,
   "id": "0d7999a2-7eea-4cba-8f75-85ed9437abf4",
   "metadata": {},
   "outputs": [],
   "source": []
  }
 ],
 "metadata": {
  "kernelspec": {
   "display_name": "ya",
   "language": "python",
   "name": "ya"
  },
  "language_info": {
   "codemirror_mode": {
    "name": "ipython",
    "version": 3
   },
   "file_extension": ".py",
   "mimetype": "text/x-python",
   "name": "python",
   "nbconvert_exporter": "python",
   "pygments_lexer": "ipython3",
   "version": "3.10.13"
  }
 },
 "nbformat": 4,
 "nbformat_minor": 5
}
